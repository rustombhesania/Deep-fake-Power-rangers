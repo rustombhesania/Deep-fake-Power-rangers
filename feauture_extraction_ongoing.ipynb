{
 "cells": [
  {
   "cell_type": "code",
   "execution_count": 1,
   "metadata": {},
   "outputs": [
    {
     "name": "stdout",
     "output_type": "stream",
     "text": [
      "Requirement already satisfied: numpy in c:\\coding\\uni stutt\\teamslab\\venv\\lib\\site-packages (2.2.5)\n",
      "Requirement already satisfied: librosa in c:\\coding\\uni stutt\\teamslab\\venv\\lib\\site-packages (0.11.0)\n",
      "Requirement already satisfied: audioread>=2.1.9 in c:\\coding\\uni stutt\\teamslab\\venv\\lib\\site-packages (from librosa) (3.0.1)\n",
      "Requirement already satisfied: numba>=0.51.0 in c:\\coding\\uni stutt\\teamslab\\venv\\lib\\site-packages (from librosa) (0.61.2)\n",
      "Requirement already satisfied: scipy>=1.6.0 in c:\\coding\\uni stutt\\teamslab\\venv\\lib\\site-packages (from librosa) (1.15.2)\n",
      "Requirement already satisfied: scikit-learn>=1.1.0 in c:\\coding\\uni stutt\\teamslab\\venv\\lib\\site-packages (from librosa) (1.6.1)\n",
      "Requirement already satisfied: joblib>=1.0 in c:\\coding\\uni stutt\\teamslab\\venv\\lib\\site-packages (from librosa) (1.4.2)\n",
      "Requirement already satisfied: decorator>=4.3.0 in c:\\coding\\uni stutt\\teamslab\\venv\\lib\\site-packages (from librosa) (5.2.1)\n",
      "Requirement already satisfied: soundfile>=0.12.1 in c:\\coding\\uni stutt\\teamslab\\venv\\lib\\site-packages (from librosa) (0.13.1)\n",
      "Requirement already satisfied: pooch>=1.1 in c:\\coding\\uni stutt\\teamslab\\venv\\lib\\site-packages (from librosa) (1.8.2)\n",
      "Requirement already satisfied: soxr>=0.3.2 in c:\\coding\\uni stutt\\teamslab\\venv\\lib\\site-packages (from librosa) (0.5.0.post1)\n",
      "Requirement already satisfied: typing_extensions>=4.1.1 in c:\\coding\\uni stutt\\teamslab\\venv\\lib\\site-packages (from librosa) (4.13.2)\n",
      "Requirement already satisfied: lazy_loader>=0.1 in c:\\coding\\uni stutt\\teamslab\\venv\\lib\\site-packages (from librosa) (0.4)\n",
      "Requirement already satisfied: msgpack>=1.0 in c:\\coding\\uni stutt\\teamslab\\venv\\lib\\site-packages (from librosa) (1.1.0)\n",
      "Requirement already satisfied: packaging in c:\\coding\\uni stutt\\teamslab\\venv\\lib\\site-packages (from lazy_loader>=0.1->librosa) (25.0)\n",
      "Requirement already satisfied: llvmlite<0.45,>=0.44.0dev0 in c:\\coding\\uni stutt\\teamslab\\venv\\lib\\site-packages (from numba>=0.51.0->librosa) (0.44.0)\n",
      "Requirement already satisfied: platformdirs>=2.5.0 in c:\\coding\\uni stutt\\teamslab\\venv\\lib\\site-packages (from pooch>=1.1->librosa) (4.3.7)\n",
      "Requirement already satisfied: requests>=2.19.0 in c:\\coding\\uni stutt\\teamslab\\venv\\lib\\site-packages (from pooch>=1.1->librosa) (2.32.3)\n",
      "Requirement already satisfied: threadpoolctl>=3.1.0 in c:\\coding\\uni stutt\\teamslab\\venv\\lib\\site-packages (from scikit-learn>=1.1.0->librosa) (3.6.0)\n",
      "Requirement already satisfied: cffi>=1.0 in c:\\coding\\uni stutt\\teamslab\\venv\\lib\\site-packages (from soundfile>=0.12.1->librosa) (1.17.1)\n",
      "Requirement already satisfied: pycparser in c:\\coding\\uni stutt\\teamslab\\venv\\lib\\site-packages (from cffi>=1.0->soundfile>=0.12.1->librosa) (2.22)\n",
      "Requirement already satisfied: charset-normalizer<4,>=2 in c:\\coding\\uni stutt\\teamslab\\venv\\lib\\site-packages (from requests>=2.19.0->pooch>=1.1->librosa) (3.4.2)\n",
      "Requirement already satisfied: idna<4,>=2.5 in c:\\coding\\uni stutt\\teamslab\\venv\\lib\\site-packages (from requests>=2.19.0->pooch>=1.1->librosa) (3.10)\n",
      "Requirement already satisfied: urllib3<3,>=1.21.1 in c:\\coding\\uni stutt\\teamslab\\venv\\lib\\site-packages (from requests>=2.19.0->pooch>=1.1->librosa) (2.4.0)\n",
      "Requirement already satisfied: certifi>=2017.4.17 in c:\\coding\\uni stutt\\teamslab\\venv\\lib\\site-packages (from requests>=2.19.0->pooch>=1.1->librosa) (2025.4.26)\n",
      "Note: you may need to restart the kernel to use updated packages.\n"
     ]
    },
    {
     "name": "stderr",
     "output_type": "stream",
     "text": [
      "\n",
      "[notice] A new release of pip available: 22.3 -> 25.1.1\n",
      "[notice] To update, run: python.exe -m pip install --upgrade pip\n"
     ]
    }
   ],
   "source": [
    "pip install numpy librosa"
   ]
  },
  {
   "cell_type": "code",
   "execution_count": 7,
   "metadata": {},
   "outputs": [
    {
     "name": "stdout",
     "output_type": "stream",
     "text": [
      "[Warning] Missing: C:\\ASVSpoof19\\LA\\ASVspoof2019_LA_train\\flac\\LA_T_9667455.flac\n",
      "Total files loaded: 25379\n",
      "Sample waveform: [0.00180054 0.00183105 0.00167847 0.00170898 0.00164795 0.00149536\n",
      " 0.00146484 0.00149536 0.0015564  0.00146484] Label: 0\n"
     ]
    }
   ],
   "source": [
    "import os\n",
    "import numpy as np\n",
    "import librosa\n",
    "\n",
    "class ASVspoof19Loader:\n",
    "    def __init__(self, audio_dir, label_file, sample_rate=16000):\n",
    "        self.audio_dir   = audio_dir\n",
    "        self.label_file  = label_file\n",
    "        self.sample_rate = sample_rate\n",
    "        self.label_map   = self.parsed_label_file()\n",
    "\n",
    "    def parsed_label_file(self):\n",
    "        label_dict = {}\n",
    "        with open(self.label_file, 'r') as f:\n",
    "            for line in f:\n",
    "                parts = line.strip().split()\n",
    "                # ← use the 2nd column (parts[1]) for the actual audio filename\n",
    "                file_id  = parts[1]\n",
    "                filename = file_id + '.flac'\n",
    "                label    = 0 if parts[-1]=='bonafide' else 1\n",
    "                label_dict[filename] = label\n",
    "        return label_dict\n",
    "\n",
    "    def load_audio(self, filepath):\n",
    "        try:\n",
    "            wav, sr = librosa.load(filepath, sr=self.sample_rate)\n",
    "            return wav / (np.max(np.abs(wav)) + 1e-9)\n",
    "        except Exception as e:\n",
    "            print(f\"[Error] {filepath}: {e}\")\n",
    "            return None\n",
    "\n",
    "    def load_dataset(self):\n",
    "        data = []\n",
    "        for fname, label in self.label_map.items():\n",
    "            full_path = os.path.join(self.audio_dir, fname)\n",
    "            if os.path.exists(full_path):\n",
    "                audio = self.load_audio(full_path)\n",
    "                if audio is not None:\n",
    "                    data.append((audio, label))\n",
    "            else:\n",
    "                print(f\"[Warning] Missing: {full_path}\")\n",
    "        return data\n",
    "\n",
    "# ——— Test it ———\n",
    "audio_folder  = r\"C:\\ASVSpoof19\\LA\\ASVspoof2019_LA_train\\flac\"\n",
    "protocol_file = r\"C:\\ASVSpoof19\\LA\\ASVspoof2019_LA_cm_protocols\\ASVspoof2019.LA.cm.train.trn.txt\"\n",
    "\n",
    "loader  = ASVspoof19Loader(audio_folder, protocol_file)\n",
    "dataset = loader.load_dataset()\n",
    "\n",
    "print(\"Total files loaded:\", len(dataset))\n",
    "if dataset:\n",
    "    print(\"Sample waveform:\", dataset[0][0][:10], \"Label:\", dataset[0][1])\n",
    "else:\n",
    "    print(\"No files loaded—check that your protocol and folder really match.\")\n"
   ]
  },
  {
   "cell_type": "code",
   "execution_count": 10,
   "metadata": {},
   "outputs": [
    {
     "ename": "KeyboardInterrupt",
     "evalue": "",
     "output_type": "error",
     "traceback": [
      "\u001b[31m---------------------------------------------------------------------------\u001b[39m",
      "\u001b[31mKeyboardInterrupt\u001b[39m                         Traceback (most recent call last)",
      "\u001b[36mCell\u001b[39m\u001b[36m \u001b[39m\u001b[32mIn[10]\u001b[39m\u001b[32m, line 47\u001b[39m\n\u001b[32m     45\u001b[39m \u001b[38;5;66;03m# Run loader from OKR 1\u001b[39;00m\n\u001b[32m     46\u001b[39m loader = ASVspoof19Loader(audio_folder, protocol_file)\n\u001b[32m---> \u001b[39m\u001b[32m47\u001b[39m dataset = \u001b[43mloader\u001b[49m\u001b[43m.\u001b[49m\u001b[43mload_dataset\u001b[49m\u001b[43m(\u001b[49m\u001b[43m)\u001b[49m\n\u001b[32m     49\u001b[39m \u001b[38;5;66;03m#runnign feature extraction\u001b[39;00m\n\u001b[32m     50\u001b[39m extractor = FeatureExtractor(dataset)\n",
      "\u001b[36mCell\u001b[39m\u001b[36m \u001b[39m\u001b[32mIn[7]\u001b[39m\u001b[32m, line 37\u001b[39m, in \u001b[36mASVspoof19Loader.load_dataset\u001b[39m\u001b[34m(self)\u001b[39m\n\u001b[32m     35\u001b[39m full_path = os.path.join(\u001b[38;5;28mself\u001b[39m.audio_dir, fname)\n\u001b[32m     36\u001b[39m \u001b[38;5;28;01mif\u001b[39;00m os.path.exists(full_path):\n\u001b[32m---> \u001b[39m\u001b[32m37\u001b[39m     audio = \u001b[38;5;28;43mself\u001b[39;49m\u001b[43m.\u001b[49m\u001b[43mload_audio\u001b[49m\u001b[43m(\u001b[49m\u001b[43mfull_path\u001b[49m\u001b[43m)\u001b[49m\n\u001b[32m     38\u001b[39m     \u001b[38;5;28;01mif\u001b[39;00m audio \u001b[38;5;129;01mis\u001b[39;00m \u001b[38;5;129;01mnot\u001b[39;00m \u001b[38;5;28;01mNone\u001b[39;00m:\n\u001b[32m     39\u001b[39m         data.append((audio, label))\n",
      "\u001b[36mCell\u001b[39m\u001b[36m \u001b[39m\u001b[32mIn[7]\u001b[39m\u001b[32m, line 26\u001b[39m, in \u001b[36mASVspoof19Loader.load_audio\u001b[39m\u001b[34m(self, filepath)\u001b[39m\n\u001b[32m     24\u001b[39m \u001b[38;5;28;01mdef\u001b[39;00m\u001b[38;5;250m \u001b[39m\u001b[34mload_audio\u001b[39m(\u001b[38;5;28mself\u001b[39m, filepath):\n\u001b[32m     25\u001b[39m     \u001b[38;5;28;01mtry\u001b[39;00m:\n\u001b[32m---> \u001b[39m\u001b[32m26\u001b[39m         wav, sr = \u001b[43mlibrosa\u001b[49m\u001b[43m.\u001b[49m\u001b[43mload\u001b[49m\u001b[43m(\u001b[49m\u001b[43mfilepath\u001b[49m\u001b[43m,\u001b[49m\u001b[43m \u001b[49m\u001b[43msr\u001b[49m\u001b[43m=\u001b[49m\u001b[38;5;28;43mself\u001b[39;49m\u001b[43m.\u001b[49m\u001b[43msample_rate\u001b[49m\u001b[43m)\u001b[49m\n\u001b[32m     27\u001b[39m         \u001b[38;5;28;01mreturn\u001b[39;00m wav / (np.max(np.abs(wav)) + \u001b[32m1e-9\u001b[39m)\n\u001b[32m     28\u001b[39m     \u001b[38;5;28;01mexcept\u001b[39;00m \u001b[38;5;167;01mException\u001b[39;00m \u001b[38;5;28;01mas\u001b[39;00m e:\n",
      "\u001b[36mFile \u001b[39m\u001b[32mc:\\Coding\\Uni Stutt\\TeamsLab\\venv\\Lib\\site-packages\\librosa\\core\\audio.py:176\u001b[39m, in \u001b[36mload\u001b[39m\u001b[34m(path, sr, mono, offset, duration, dtype, res_type)\u001b[39m\n\u001b[32m    173\u001b[39m \u001b[38;5;28;01melse\u001b[39;00m:\n\u001b[32m    174\u001b[39m     \u001b[38;5;66;03m# Otherwise try soundfile first, and then fall back if necessary\u001b[39;00m\n\u001b[32m    175\u001b[39m     \u001b[38;5;28;01mtry\u001b[39;00m:\n\u001b[32m--> \u001b[39m\u001b[32m176\u001b[39m         y, sr_native = \u001b[43m__soundfile_load\u001b[49m\u001b[43m(\u001b[49m\u001b[43mpath\u001b[49m\u001b[43m,\u001b[49m\u001b[43m \u001b[49m\u001b[43moffset\u001b[49m\u001b[43m,\u001b[49m\u001b[43m \u001b[49m\u001b[43mduration\u001b[49m\u001b[43m,\u001b[49m\u001b[43m \u001b[49m\u001b[43mdtype\u001b[49m\u001b[43m)\u001b[49m\n\u001b[32m    178\u001b[39m     \u001b[38;5;28;01mexcept\u001b[39;00m sf.SoundFileRuntimeError \u001b[38;5;28;01mas\u001b[39;00m exc:\n\u001b[32m    179\u001b[39m         \u001b[38;5;66;03m# If soundfile failed, try audioread instead\u001b[39;00m\n\u001b[32m    180\u001b[39m         \u001b[38;5;28;01mif\u001b[39;00m \u001b[38;5;28misinstance\u001b[39m(path, (\u001b[38;5;28mstr\u001b[39m, pathlib.PurePath)):\n",
      "\u001b[36mFile \u001b[39m\u001b[32mc:\\Coding\\Uni Stutt\\TeamsLab\\venv\\Lib\\site-packages\\librosa\\core\\audio.py:209\u001b[39m, in \u001b[36m__soundfile_load\u001b[39m\u001b[34m(path, offset, duration, dtype)\u001b[39m\n\u001b[32m    206\u001b[39m     context = path\n\u001b[32m    207\u001b[39m \u001b[38;5;28;01melse\u001b[39;00m:\n\u001b[32m    208\u001b[39m     \u001b[38;5;66;03m# Otherwise, create the soundfile object\u001b[39;00m\n\u001b[32m--> \u001b[39m\u001b[32m209\u001b[39m     context = \u001b[43msf\u001b[49m\u001b[43m.\u001b[49m\u001b[43mSoundFile\u001b[49m\u001b[43m(\u001b[49m\u001b[43mpath\u001b[49m\u001b[43m)\u001b[49m\n\u001b[32m    211\u001b[39m \u001b[38;5;28;01mwith\u001b[39;00m context \u001b[38;5;28;01mas\u001b[39;00m sf_desc:\n\u001b[32m    212\u001b[39m     sr_native = sf_desc.samplerate\n",
      "\u001b[36mFile \u001b[39m\u001b[32mc:\\Coding\\Uni Stutt\\TeamsLab\\venv\\Lib\\site-packages\\soundfile.py:690\u001b[39m, in \u001b[36mSoundFile.__init__\u001b[39m\u001b[34m(self, file, mode, samplerate, channels, subtype, endian, format, closefd, compression_level, bitrate_mode)\u001b[39m\n\u001b[32m    687\u001b[39m \u001b[38;5;28mself\u001b[39m._bitrate_mode = bitrate_mode\n\u001b[32m    688\u001b[39m \u001b[38;5;28mself\u001b[39m._info = _create_info_struct(file, mode, samplerate, channels,\n\u001b[32m    689\u001b[39m                                  \u001b[38;5;28mformat\u001b[39m, subtype, endian)\n\u001b[32m--> \u001b[39m\u001b[32m690\u001b[39m \u001b[38;5;28mself\u001b[39m._file = \u001b[38;5;28;43mself\u001b[39;49m\u001b[43m.\u001b[49m\u001b[43m_open\u001b[49m\u001b[43m(\u001b[49m\u001b[43mfile\u001b[49m\u001b[43m,\u001b[49m\u001b[43m \u001b[49m\u001b[43mmode_int\u001b[49m\u001b[43m,\u001b[49m\u001b[43m \u001b[49m\u001b[43mclosefd\u001b[49m\u001b[43m)\u001b[49m\n\u001b[32m    691\u001b[39m \u001b[38;5;28;01mif\u001b[39;00m \u001b[38;5;28mset\u001b[39m(mode).issuperset(\u001b[33m'\u001b[39m\u001b[33mr+\u001b[39m\u001b[33m'\u001b[39m) \u001b[38;5;129;01mand\u001b[39;00m \u001b[38;5;28mself\u001b[39m.seekable():\n\u001b[32m    692\u001b[39m     \u001b[38;5;66;03m# Move write position to 0 (like in Python file objects)\u001b[39;00m\n\u001b[32m    693\u001b[39m     \u001b[38;5;28mself\u001b[39m.seek(\u001b[32m0\u001b[39m)\n",
      "\u001b[36mFile \u001b[39m\u001b[32mc:\\Coding\\Uni Stutt\\TeamsLab\\venv\\Lib\\site-packages\\soundfile.py:1254\u001b[39m, in \u001b[36mSoundFile._open\u001b[39m\u001b[34m(self, file, mode_int, closefd)\u001b[39m\n\u001b[32m   1252\u001b[39m         \u001b[38;5;28;01melse\u001b[39;00m:\n\u001b[32m   1253\u001b[39m             file = file.encode(_sys.getfilesystemencoding())\n\u001b[32m-> \u001b[39m\u001b[32m1254\u001b[39m     file_ptr = \u001b[43mopenfunction\u001b[49m\u001b[43m(\u001b[49m\u001b[43mfile\u001b[49m\u001b[43m,\u001b[49m\u001b[43m \u001b[49m\u001b[43mmode_int\u001b[49m\u001b[43m,\u001b[49m\u001b[43m \u001b[49m\u001b[38;5;28;43mself\u001b[39;49m\u001b[43m.\u001b[49m\u001b[43m_info\u001b[49m\u001b[43m)\u001b[49m\n\u001b[32m   1255\u001b[39m \u001b[38;5;28;01melif\u001b[39;00m \u001b[38;5;28misinstance\u001b[39m(file, \u001b[38;5;28mint\u001b[39m):\n\u001b[32m   1256\u001b[39m     file_ptr = _snd.sf_open_fd(file, mode_int, \u001b[38;5;28mself\u001b[39m._info, closefd)\n",
      "\u001b[31mKeyboardInterrupt\u001b[39m: "
     ]
    }
   ],
   "source": [
    "###OKR 3###\n",
    "#Feature extraction\n",
    "import librosa.display\n",
    "import matplotlib.pyplot as plt\n",
    "\n",
    "class FeatureExtractor:\n",
    "    def __init__(self, dataset, sr = 16000):\n",
    "        self.dataset = dataset\n",
    "        self.sr = sr\n",
    "\n",
    "    def extract_mfcc(self, y, n_mfcc = 13):\n",
    "        return librosa.feature.mfcc(y=y, sr = self.sr, n_mfcc = n_mfcc)\n",
    "    \n",
    "    def extract_lpc(self, y, order = 16):\n",
    "        #using a 25ms window\n",
    "        frame = y[:int(self.sr * 0.025)]\n",
    "        return librosa.lpc(y=frame, order=order)\n",
    "    \n",
    "    def extract_cqt(self, y):\n",
    "        return librosa.cqt(y=y, sr=self.sr)\n",
    "    \n",
    "    def process_all(self):\n",
    "        features = []\n",
    "        for idx, (y, label) in enumerate(self.dataset):\n",
    "            mfcc = self.extract_mfcc(y)\n",
    "            cqt = self.extract_cqt(y)\n",
    "            lpc = self.extract_lpc(y)\n",
    "            features.append({\n",
    "                'mfcc' : mfcc,\n",
    "                'lpc' : lpc,\n",
    "                'cqt' : cqt,\n",
    "                'label' : label\n",
    "            })\n",
    "        if idx % 100 == 0:\n",
    "            print(f\"Processed {idx} files\")\n",
    "        if len(y) < 256:\n",
    "            y = np.pad(y, (0,256 - len(y)), mode= 'constant')\n",
    "        return features\n",
    "    \n",
    "\n",
    "\n",
    "audio_folder  = r\"C:\\ASVSpoof19\\LA\\ASVspoof2019_LA_train\\flac\"\n",
    "protocol_file = r\"C:\\ASVSpoof19\\LA\\ASVspoof2019_LA_cm_protocols\\ASVspoof2019.LA.cm.train.trn.txt\"\n",
    "\n",
    "# Run loader from OKR 1\n",
    "loader = ASVspoof19Loader(audio_folder, protocol_file)\n",
    "dataset = loader.load_dataset()\n",
    "\n",
    "#runnign feature extraction\n",
    "extractor = FeatureExtractor(dataset)\n",
    "features = extractor.process_all()\n",
    "\n",
    "#saving extracted features\n",
    "np.save(\"features.npy\", features)\n"
   ]
  },
  {
   "cell_type": "code",
   "execution_count": null,
   "metadata": {},
   "outputs": [],
   "source": []
  }
 ],
 "metadata": {
  "kernelspec": {
   "display_name": "venv",
   "language": "python",
   "name": "python3"
  },
  "language_info": {
   "codemirror_mode": {
    "name": "ipython",
    "version": 3
   },
   "file_extension": ".py",
   "mimetype": "text/x-python",
   "name": "python",
   "nbconvert_exporter": "python",
   "pygments_lexer": "ipython3",
   "version": "3.11.0"
  }
 },
 "nbformat": 4,
 "nbformat_minor": 2
}
